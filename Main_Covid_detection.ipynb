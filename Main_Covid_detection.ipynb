{
 "cells": [
  {
   "cell_type": "markdown",
   "metadata": {},
   "source": [
    "# Importing the Libraries"
   ]
  },
  {
   "cell_type": "code",
   "execution_count": 1,
   "metadata": {},
   "outputs": [],
   "source": [
    "from tensorflow import keras\n",
    "from tensorflow.keras.preprocessing.image import ImageDataGenerator\n",
    "from tensorflow.keras.models import Sequential\n",
    "from tensorflow.keras.layers import Conv2D\n",
    "from tensorflow.keras.layers import MaxPooling2D\n",
    "from tensorflow.keras.layers import Flatten\n",
    "from tensorflow.keras.layers import Dense\n",
    "from tensorflow.keras.callbacks import EarlyStopping\n",
    "from tensorflow.keras.callbacks import ModelCheckpoint\n",
    "import matplotlib.pyplot as plt"
   ]
  },
  {
   "cell_type": "markdown",
   "metadata": {},
   "source": [
    "# Getting and loading the Training, Testing and Validation set"
   ]
  },
  {
   "cell_type": "code",
   "execution_count": 2,
   "metadata": {},
   "outputs": [],
   "source": [
    "train_path = r\"C:\\AI-DocHelper_Models_Code\\COVID_Detection\\dataset\\train\"\n",
    "validation_path = r\"C:\\AI-DocHelper_Models_Code\\COVID_Detection\\dataset\\val\"\n",
    "test_path = r\"C:\\AI-DocHelper_Models_Code\\COVID_Detection\\dataset\\test\""
   ]
  },
  {
   "cell_type": "code",
   "execution_count": 3,
   "metadata": {},
   "outputs": [],
   "source": [
    "batch_size = 16\n",
    "img_size = (256, 256)"
   ]
  },
  {
   "cell_type": "code",
   "execution_count": 4,
   "metadata": {},
   "outputs": [],
   "source": [
    "train_datagen = ImageDataGenerator(rescale = 1./255,\n",
    "                                  rotation_range = 40.,\n",
    "                                  width_shift_range = 0.2,\n",
    "                                  height_shift_range = 0.2,\n",
    "                                  shear_range = 0.2,\n",
    "                                  zoom_range = 0.2,\n",
    "                                  horizontal_flip = True)\n",
    "\n",
    "validation_datagen = ImageDataGenerator(rescale = 1./255)"
   ]
  },
  {
   "cell_type": "code",
   "execution_count": 5,
   "metadata": {},
   "outputs": [
    {
     "name": "stdout",
     "output_type": "stream",
     "text": [
      "Found 7263 images belonging to 3 classes.\n",
      "Found 2421 images belonging to 3 classes.\n",
      "Found 0 images belonging to 3 classes.\n"
     ]
    }
   ],
   "source": [
    "train_generator = train_datagen.flow_from_directory(train_path,\n",
    "                                                   target_size = img_size,\n",
    "                                                   batch_size = batch_size,\n",
    "                                                    color_mode = \"grayscale\",\n",
    "                                                   class_mode = \"categorical\")\n",
    "\n",
    "validation_generator = validation_datagen.flow_from_directory(validation_path,\n",
    "                                                             target_size = img_size,\n",
    "                                                             batch_size = batch_size,\n",
    "                                                              color_mode = \"grayscale\",\n",
    "                                                             class_mode = \"categorical\")\n",
    "\n",
    "test_generator = validation_datagen.flow_from_directory(test_path,\n",
    "                                                       target_size = img_size,\n",
    "                                                       batch_size = batch_size,\n",
    "                                                       color_mode = \"grayscale\",\n",
    "                                                       class_mode = \"categorical\",\n",
    "                                                       shuffle = False)"
   ]
  },
  {
   "cell_type": "markdown",
   "metadata": {},
   "source": [
    "# Getting the class names"
   ]
  },
  {
   "cell_type": "code",
   "execution_count": 6,
   "metadata": {},
   "outputs": [
    {
     "name": "stdout",
     "output_type": "stream",
     "text": [
      "{0: 'COVID', 1: 'Lung_Opacity', 2: 'Normal'}\n"
     ]
    }
   ],
   "source": [
    "temp_classes = dict(train_generator.class_indices)\n",
    "\n",
    "classes = dict()\n",
    "for (k, v) in temp_classes.items() :\n",
    "    classes[v] = k\n",
    "print(classes)"
   ]
  },
  {
   "cell_type": "markdown",
   "metadata": {},
   "source": [
    "# Building the CNN"
   ]
  },
  {
   "cell_type": "markdown",
   "metadata": {},
   "source": [
    "## Initalising the CNN"
   ]
  },
  {
   "cell_type": "code",
   "execution_count": 7,
   "metadata": {},
   "outputs": [],
   "source": [
    "model = Sequential()"
   ]
  },
  {
   "cell_type": "markdown",
   "metadata": {},
   "source": [
    "# Adding the layers"
   ]
  },
  {
   "cell_type": "markdown",
   "metadata": {},
   "source": [
    "## Adding the First Convolutional and Pooling layers"
   ]
  },
  {
   "cell_type": "code",
   "execution_count": 8,
   "metadata": {},
   "outputs": [],
   "source": [
    "model.add(Conv2D(32, (3, 3), input_shape = (img_size[0], img_size[1], 1), activation = \"relu\"))\n",
    "model.add(MaxPooling2D(pool_size = (2, 2)))"
   ]
  },
  {
   "cell_type": "markdown",
   "metadata": {},
   "source": [
    "## Adding the Second Convolutional and Pooling layers"
   ]
  },
  {
   "cell_type": "code",
   "execution_count": 9,
   "metadata": {},
   "outputs": [],
   "source": [
    "model.add(Conv2D(32, (3, 3), input_shape = (img_size[0], img_size[1], 1), activation = \"relu\"))\n",
    "model.add(MaxPooling2D(pool_size = (2, 2)))"
   ]
  },
  {
   "cell_type": "markdown",
   "metadata": {},
   "source": [
    "## Adding the Third Convolutional and Pooling layers"
   ]
  },
  {
   "cell_type": "code",
   "execution_count": 10,
   "metadata": {},
   "outputs": [],
   "source": [
    "model.add(Conv2D(64, (3, 3), input_shape = (img_size[0], img_size[1], 1), activation = \"relu\"))\n",
    "model.add(MaxPooling2D(pool_size = (2, 2)))"
   ]
  },
  {
   "cell_type": "markdown",
   "metadata": {},
   "source": [
    "## Adding the Forth Convolutional and Pooling layers"
   ]
  },
  {
   "cell_type": "code",
   "execution_count": 11,
   "metadata": {},
   "outputs": [],
   "source": [
    "model.add(Conv2D(64, (3, 3), input_shape = (img_size[0], img_size[1], 1), activation = \"relu\"))\n",
    "model.add(MaxPooling2D(pool_size = (2, 2)))"
   ]
  },
  {
   "cell_type": "markdown",
   "metadata": {},
   "source": [
    "## Adding the Fifth Convolutional and Pooling layers"
   ]
  },
  {
   "cell_type": "code",
   "execution_count": 12,
   "metadata": {},
   "outputs": [],
   "source": [
    "model.add(Conv2D(128, (3, 3), input_shape = (img_size[0], img_size[1], 1), activation = \"relu\"))\n",
    "model.add(MaxPooling2D(pool_size = (2, 2)))"
   ]
  },
  {
   "cell_type": "markdown",
   "metadata": {},
   "source": [
    "## Adding the Sixth Convolutional and Pooling layers"
   ]
  },
  {
   "cell_type": "code",
   "execution_count": 13,
   "metadata": {},
   "outputs": [],
   "source": [
    "model.add(Conv2D(128, (3, 3), input_shape = (img_size[0], img_size[1], 1), activation = \"relu\"))\n",
    "model.add(MaxPooling2D(pool_size = (2, 2)))"
   ]
  },
  {
   "cell_type": "markdown",
   "metadata": {},
   "source": [
    "# Flattening all the layers"
   ]
  },
  {
   "cell_type": "code",
   "execution_count": 14,
   "metadata": {},
   "outputs": [],
   "source": [
    "model.add(Flatten())"
   ]
  },
  {
   "cell_type": "markdown",
   "metadata": {},
   "source": [
    "## Adding the First Fully Connected Layer"
   ]
  },
  {
   "cell_type": "code",
   "execution_count": 15,
   "metadata": {},
   "outputs": [],
   "source": [
    "model.add(Dense(units = 128, activation = \"relu\"))"
   ]
  },
  {
   "cell_type": "markdown",
   "metadata": {},
   "source": [
    "## Adding the Second Fully Connected Layer"
   ]
  },
  {
   "cell_type": "code",
   "execution_count": 16,
   "metadata": {},
   "outputs": [],
   "source": [
    "model.add(Dense(units = 64, activation = \"relu\"))"
   ]
  },
  {
   "cell_type": "markdown",
   "metadata": {},
   "source": [
    "## Adding the Third Fully Connected Layer"
   ]
  },
  {
   "cell_type": "code",
   "execution_count": 17,
   "metadata": {},
   "outputs": [],
   "source": [
    "model.add(Dense(units = 32, activation = \"relu\"))"
   ]
  },
  {
   "cell_type": "markdown",
   "metadata": {},
   "source": [
    "## Adding the Final Fully Connected Layer"
   ]
  },
  {
   "cell_type": "code",
   "execution_count": 18,
   "metadata": {},
   "outputs": [],
   "source": [
    "model.add(Dense(units = 3, activation = \"sigmoid\"))"
   ]
  },
  {
   "cell_type": "markdown",
   "metadata": {},
   "source": [
    "## Displaying the model summary"
   ]
  },
  {
   "cell_type": "code",
   "execution_count": 19,
   "metadata": {},
   "outputs": [
    {
     "name": "stdout",
     "output_type": "stream",
     "text": [
      "Model: \"sequential\"\n",
      "_________________________________________________________________\n",
      "Layer (type)                 Output Shape              Param #   \n",
      "=================================================================\n",
      "conv2d (Conv2D)              (None, 254, 254, 32)      320       \n",
      "_________________________________________________________________\n",
      "max_pooling2d (MaxPooling2D) (None, 127, 127, 32)      0         \n",
      "_________________________________________________________________\n",
      "conv2d_1 (Conv2D)            (None, 125, 125, 32)      9248      \n",
      "_________________________________________________________________\n",
      "max_pooling2d_1 (MaxPooling2 (None, 62, 62, 32)        0         \n",
      "_________________________________________________________________\n",
      "conv2d_2 (Conv2D)            (None, 60, 60, 64)        18496     \n",
      "_________________________________________________________________\n",
      "max_pooling2d_2 (MaxPooling2 (None, 30, 30, 64)        0         \n",
      "_________________________________________________________________\n",
      "conv2d_3 (Conv2D)            (None, 28, 28, 64)        36928     \n",
      "_________________________________________________________________\n",
      "max_pooling2d_3 (MaxPooling2 (None, 14, 14, 64)        0         \n",
      "_________________________________________________________________\n",
      "conv2d_4 (Conv2D)            (None, 12, 12, 128)       73856     \n",
      "_________________________________________________________________\n",
      "max_pooling2d_4 (MaxPooling2 (None, 6, 6, 128)         0         \n",
      "_________________________________________________________________\n",
      "conv2d_5 (Conv2D)            (None, 4, 4, 128)         147584    \n",
      "_________________________________________________________________\n",
      "max_pooling2d_5 (MaxPooling2 (None, 2, 2, 128)         0         \n",
      "_________________________________________________________________\n",
      "flatten (Flatten)            (None, 512)               0         \n",
      "_________________________________________________________________\n",
      "dense (Dense)                (None, 128)               65664     \n",
      "_________________________________________________________________\n",
      "dense_1 (Dense)              (None, 64)                8256      \n",
      "_________________________________________________________________\n",
      "dense_2 (Dense)              (None, 32)                2080      \n",
      "_________________________________________________________________\n",
      "dense_3 (Dense)              (None, 3)                 99        \n",
      "=================================================================\n",
      "Total params: 362,531\n",
      "Trainable params: 362,531\n",
      "Non-trainable params: 0\n",
      "_________________________________________________________________\n"
     ]
    }
   ],
   "source": [
    "model.summary()"
   ]
  },
  {
   "cell_type": "markdown",
   "metadata": {},
   "source": [
    "## Compiling the CNN model"
   ]
  },
  {
   "cell_type": "code",
   "execution_count": 20,
   "metadata": {},
   "outputs": [],
   "source": [
    "model.compile(optimizer = \"adam\",\n",
    "             loss = \"categorical_crossentropy\", \n",
    "             metrics = [\"accuracy\"])"
   ]
  },
  {
   "cell_type": "markdown",
   "metadata": {},
   "source": [
    "# Training the CNN"
   ]
  },
  {
   "cell_type": "markdown",
   "metadata": {},
   "source": [
    "## Saving the Best model only"
   ]
  },
  {
   "cell_type": "code",
   "execution_count": 21,
   "metadata": {},
   "outputs": [],
   "source": [
    "checkpoint = ModelCheckpoint(filepath = \"covid.h5\",\n",
    "                            save_best_only = True)"
   ]
  },
  {
   "cell_type": "markdown",
   "metadata": {},
   "source": [
    "## Stopping the Training, if there is no improvement"
   ]
  },
  {
   "cell_type": "code",
   "execution_count": 22,
   "metadata": {},
   "outputs": [],
   "source": [
    "earlyStopping = EarlyStopping(monitor=\"val_loss\", \n",
    "                              patience = 10,\n",
    "                             restore_best_weights = True,\n",
    "                             verbose = 1)"
   ]
  },
  {
   "cell_type": "markdown",
   "metadata": {},
   "source": [
    "## Calculating the steps_per_epoch and validation_steps"
   ]
  },
  {
   "cell_type": "code",
   "execution_count": 23,
   "metadata": {},
   "outputs": [
    {
     "name": "stdout",
     "output_type": "stream",
     "text": [
      "454\n",
      "152\n"
     ]
    }
   ],
   "source": [
    "import math\n",
    "\n",
    "batch_size = batch_size\n",
    "training_size = 7263\n",
    "validation_size = 2421\n",
    "\n",
    "compute_steps_per_epoch = lambda x : int(math.ceil(1. * x / batch_size))\n",
    "\n",
    "steps_per_epoch = compute_steps_per_epoch(training_size)\n",
    "validation_steps = compute_steps_per_epoch(validation_size)\n",
    "\n",
    "print(steps_per_epoch)\n",
    "print(validation_steps)"
   ]
  },
  {
   "cell_type": "code",
   "execution_count": 24,
   "metadata": {},
   "outputs": [
    {
     "name": "stderr",
     "output_type": "stream",
     "text": [
      "C:\\Users\\RAJ SHAH\\anaconda3\\lib\\site-packages\\tensorflow\\python\\keras\\engine\\training.py:1844: UserWarning: `Model.fit_generator` is deprecated and will be removed in a future version. Please use `Model.fit`, which supports generators.\n",
      "  warnings.warn('`Model.fit_generator` is deprecated and '\n"
     ]
    },
    {
     "name": "stdout",
     "output_type": "stream",
     "text": [
      "Epoch 1/50\n",
      "454/454 [==============================] - 280s 613ms/step - loss: 1.0915 - accuracy: 0.3865 - val_loss: 1.0354 - val_accuracy: 0.4515\n",
      "Epoch 2/50\n",
      "454/454 [==============================] - 253s 558ms/step - loss: 1.0138 - accuracy: 0.4826 - val_loss: 0.9975 - val_accuracy: 0.4804\n",
      "Epoch 3/50\n",
      "454/454 [==============================] - 258s 568ms/step - loss: 0.9719 - accuracy: 0.5186 - val_loss: 0.9335 - val_accuracy: 0.5638\n",
      "Epoch 4/50\n",
      "454/454 [==============================] - 255s 561ms/step - loss: 0.9188 - accuracy: 0.5839 - val_loss: 0.8474 - val_accuracy: 0.6196\n",
      "Epoch 5/50\n",
      "454/454 [==============================] - 255s 561ms/step - loss: 0.8756 - accuracy: 0.6102 - val_loss: 0.8165 - val_accuracy: 0.6547\n",
      "Epoch 6/50\n",
      "454/454 [==============================] - 251s 552ms/step - loss: 0.8243 - accuracy: 0.6374 - val_loss: 0.7696 - val_accuracy: 0.6716\n",
      "Epoch 7/50\n",
      "454/454 [==============================] - 260s 572ms/step - loss: 0.8007 - accuracy: 0.6539 - val_loss: 0.7027 - val_accuracy: 0.7088\n",
      "Epoch 8/50\n",
      "454/454 [==============================] - 256s 564ms/step - loss: 0.7353 - accuracy: 0.6913 - val_loss: 0.5894 - val_accuracy: 0.7650\n",
      "Epoch 9/50\n",
      "454/454 [==============================] - 260s 572ms/step - loss: 0.7070 - accuracy: 0.6941 - val_loss: 0.5737 - val_accuracy: 0.7703\n",
      "Epoch 10/50\n",
      "454/454 [==============================] - 257s 565ms/step - loss: 0.6891 - accuracy: 0.7137 - val_loss: 0.5545 - val_accuracy: 0.7712\n",
      "Epoch 11/50\n",
      "454/454 [==============================] - 254s 559ms/step - loss: 0.6518 - accuracy: 0.7315 - val_loss: 0.5593 - val_accuracy: 0.7736\n",
      "Epoch 12/50\n",
      "454/454 [==============================] - 263s 580ms/step - loss: 0.6064 - accuracy: 0.7466 - val_loss: 0.4952 - val_accuracy: 0.7968\n",
      "Epoch 13/50\n",
      "454/454 [==============================] - 257s 567ms/step - loss: 0.5913 - accuracy: 0.7570 - val_loss: 0.4921 - val_accuracy: 0.8129\n",
      "Epoch 14/50\n",
      "454/454 [==============================] - 246s 541ms/step - loss: 0.5743 - accuracy: 0.7716 - val_loss: 0.4642 - val_accuracy: 0.8141\n",
      "Epoch 15/50\n",
      "454/454 [==============================] - 248s 546ms/step - loss: 0.5671 - accuracy: 0.7674 - val_loss: 0.4858 - val_accuracy: 0.8046\n",
      "Epoch 16/50\n",
      "454/454 [==============================] - 251s 553ms/step - loss: 0.5640 - accuracy: 0.7727 - val_loss: 0.4668 - val_accuracy: 0.8079\n",
      "Epoch 17/50\n",
      "454/454 [==============================] - 253s 558ms/step - loss: 0.5216 - accuracy: 0.7868 - val_loss: 0.5111 - val_accuracy: 0.7860\n",
      "Epoch 18/50\n",
      "454/454 [==============================] - 281s 618ms/step - loss: 0.5140 - accuracy: 0.7864 - val_loss: 0.4036 - val_accuracy: 0.8373\n",
      "Epoch 19/50\n",
      "454/454 [==============================] - 330s 726ms/step - loss: 0.4967 - accuracy: 0.7988 - val_loss: 0.4622 - val_accuracy: 0.8170\n",
      "Epoch 20/50\n",
      "454/454 [==============================] - 313s 689ms/step - loss: 0.4869 - accuracy: 0.8047 - val_loss: 0.4021 - val_accuracy: 0.8385\n",
      "Epoch 21/50\n",
      "454/454 [==============================] - 240s 530ms/step - loss: 0.4912 - accuracy: 0.8079 - val_loss: 0.4275 - val_accuracy: 0.8228\n",
      "Epoch 22/50\n",
      "454/454 [==============================] - 257s 566ms/step - loss: 0.4745 - accuracy: 0.8066 - val_loss: 0.3757 - val_accuracy: 0.8459\n",
      "Epoch 23/50\n",
      "454/454 [==============================] - 253s 557ms/step - loss: 0.4522 - accuracy: 0.8175 - val_loss: 0.4688 - val_accuracy: 0.8245\n",
      "Epoch 24/50\n",
      "454/454 [==============================] - 247s 543ms/step - loss: 0.4530 - accuracy: 0.8163 - val_loss: 0.3544 - val_accuracy: 0.8583\n",
      "Epoch 25/50\n",
      "454/454 [==============================] - 252s 554ms/step - loss: 0.4465 - accuracy: 0.8272 - val_loss: 0.3401 - val_accuracy: 0.8620\n",
      "Epoch 26/50\n",
      "454/454 [==============================] - 253s 558ms/step - loss: 0.4368 - accuracy: 0.8270 - val_loss: 0.4080 - val_accuracy: 0.8364\n",
      "Epoch 27/50\n",
      "454/454 [==============================] - 248s 545ms/step - loss: 0.4375 - accuracy: 0.8257 - val_loss: 0.3516 - val_accuracy: 0.8546\n",
      "Epoch 28/50\n",
      "454/454 [==============================] - 255s 562ms/step - loss: 0.4343 - accuracy: 0.8242 - val_loss: 0.3603 - val_accuracy: 0.8558\n",
      "Epoch 29/50\n",
      "454/454 [==============================] - 257s 565ms/step - loss: 0.4382 - accuracy: 0.8271 - val_loss: 0.4701 - val_accuracy: 0.7980\n",
      "Epoch 30/50\n",
      "454/454 [==============================] - 260s 573ms/step - loss: 0.4465 - accuracy: 0.8240 - val_loss: 0.3197 - val_accuracy: 0.8761\n",
      "Epoch 31/50\n",
      "454/454 [==============================] - 256s 563ms/step - loss: 0.3882 - accuracy: 0.8444 - val_loss: 0.3801 - val_accuracy: 0.8459\n",
      "Epoch 32/50\n",
      "454/454 [==============================] - 256s 563ms/step - loss: 0.3929 - accuracy: 0.8441 - val_loss: 0.3204 - val_accuracy: 0.8674\n",
      "Epoch 33/50\n",
      "454/454 [==============================] - 256s 564ms/step - loss: 0.3913 - accuracy: 0.8476 - val_loss: 0.3519 - val_accuracy: 0.8534\n",
      "Epoch 34/50\n",
      "454/454 [==============================] - 254s 559ms/step - loss: 0.3885 - accuracy: 0.8494 - val_loss: 0.3238 - val_accuracy: 0.8711\n",
      "Epoch 35/50\n",
      "454/454 [==============================] - 253s 558ms/step - loss: 0.4075 - accuracy: 0.8390 - val_loss: 0.3169 - val_accuracy: 0.8781\n",
      "Epoch 36/50\n",
      "454/454 [==============================] - 260s 573ms/step - loss: 0.3897 - accuracy: 0.8433 - val_loss: 0.3685 - val_accuracy: 0.8608\n",
      "Epoch 37/50\n",
      "454/454 [==============================] - 253s 556ms/step - loss: 0.3730 - accuracy: 0.8495 - val_loss: 0.3273 - val_accuracy: 0.8777\n",
      "Epoch 38/50\n",
      "454/454 [==============================] - 254s 560ms/step - loss: 0.4000 - accuracy: 0.8469 - val_loss: 0.3125 - val_accuracy: 0.8720\n",
      "Epoch 39/50\n",
      "454/454 [==============================] - 248s 546ms/step - loss: 0.3641 - accuracy: 0.8576 - val_loss: 0.3104 - val_accuracy: 0.8740\n",
      "Epoch 40/50\n",
      "454/454 [==============================] - 240s 529ms/step - loss: 0.3757 - accuracy: 0.8543 - val_loss: 0.2971 - val_accuracy: 0.8889\n",
      "Epoch 41/50\n",
      "454/454 [==============================] - 242s 533ms/step - loss: 0.3924 - accuracy: 0.8455 - val_loss: 0.2769 - val_accuracy: 0.8934\n",
      "Epoch 42/50\n",
      "454/454 [==============================] - 243s 534ms/step - loss: 0.3540 - accuracy: 0.8659 - val_loss: 0.2947 - val_accuracy: 0.8843\n",
      "Epoch 43/50\n",
      "454/454 [==============================] - 249s 549ms/step - loss: 0.3572 - accuracy: 0.8599 - val_loss: 0.3233 - val_accuracy: 0.8765\n",
      "Epoch 44/50\n",
      "454/454 [==============================] - 247s 543ms/step - loss: 0.3284 - accuracy: 0.8693 - val_loss: 0.3150 - val_accuracy: 0.8806\n",
      "Epoch 45/50\n",
      "454/454 [==============================] - 254s 560ms/step - loss: 0.3509 - accuracy: 0.8670 - val_loss: 0.2847 - val_accuracy: 0.8881\n",
      "Epoch 46/50\n",
      "454/454 [==============================] - 250s 550ms/step - loss: 0.3588 - accuracy: 0.8613 - val_loss: 0.2912 - val_accuracy: 0.8823\n",
      "Epoch 47/50\n",
      "454/454 [==============================] - 248s 546ms/step - loss: 0.3506 - accuracy: 0.8588 - val_loss: 0.2798 - val_accuracy: 0.8930\n",
      "Epoch 48/50\n",
      "454/454 [==============================] - 240s 528ms/step - loss: 0.3280 - accuracy: 0.8795 - val_loss: 0.2903 - val_accuracy: 0.8823\n",
      "Epoch 49/50\n",
      "454/454 [==============================] - 241s 531ms/step - loss: 0.3361 - accuracy: 0.8668 - val_loss: 0.2593 - val_accuracy: 0.8996\n",
      "Epoch 50/50\n",
      "454/454 [==============================] - 242s 533ms/step - loss: 0.3312 - accuracy: 0.8656 - val_loss: 0.3288 - val_accuracy: 0.8691\n"
     ]
    }
   ],
   "source": [
    "history = model.fit_generator(train_generator,\n",
    "                             steps_per_epoch = steps_per_epoch,\n",
    "                             epochs = 50,\n",
    "                             validation_data = validation_generator,\n",
    "                             validation_steps = validation_steps,\n",
    "                             callbacks = [checkpoint, earlyStopping])"
   ]
  },
  {
   "cell_type": "markdown",
   "metadata": {},
   "source": [
    "# Saving the model"
   ]
  },
  {
   "cell_type": "code",
   "execution_count": 25,
   "metadata": {},
   "outputs": [],
   "source": [
    "model_json = model.to_json()\n",
    "\n",
    "with open(\"covid.json\", \"w\") as json_file :\n",
    "    json_file.write(model_json)"
   ]
  },
  {
   "cell_type": "markdown",
   "metadata": {},
   "source": [
    "# Visualizing the Training Performance"
   ]
  },
  {
   "cell_type": "code",
   "execution_count": 26,
   "metadata": {},
   "outputs": [
    {
     "data": {
      "image/png": "[encoded data removed]",
      "text/plain": [
       "<Figure size 864x864 with 2 Axes>"
      ]
     },
     "metadata": {
      "needs_background": "light"
     },
     "output_type": "display_data"
    }
   ],
   "source": [
    "plt.figure(figsize = (12, 12))\n",
    "\n",
    "plt.subplot(2, 2, 1)\n",
    "plt.plot(history.history[\"accuracy\"], label = \"accuracy\")\n",
    "plt.plot(history.history[\"val_accuracy\"], label = \"val_accuracy\")\n",
    "plt.legend()\n",
    "plt.grid()\n",
    "plt.title(\"Accuracy Evaluation\")\n",
    "\n",
    "plt.subplot(2, 2, 2)\n",
    "plt.plot(history.history[\"loss\"], label = \"loss\")\n",
    "plt.plot(history.history[\"val_loss\"], label = \"val_loss\")\n",
    "plt.grid()\n",
    "plt.legend()\n",
    "plt.title(\"Loss Evaluation\")\n",
    "\n",
    "plt.savefig(\"covid_model_history.jpg\")"
   ]
  },
  {
   "cell_type": "markdown",
   "metadata": {},
   "source": [
    "# Getting the accuracy for test set"
   ]
  },
  {
   "cell_type": "code",
   "execution_count": 27,
   "metadata": {},
   "outputs": [
    {
     "name": "stdout",
     "output_type": "stream",
     "text": [
      "152/152 [==============================] - 19s 122ms/step - loss: 0.3288 - accuracy: 0.8691\n",
      "[0.32884231209754944, 0.8690623641014099]\n"
     ]
    }
   ],
   "source": [
    "test_accuracy = model.evaluate(validation_generator)\n",
    "print(test_accuracy)"
   ]
  },
  {
   "cell_type": "code",
   "execution_count": 28,
   "metadata": {},
   "outputs": [
    {
     "name": "stdout",
     "output_type": "stream",
     "text": [
      "152/152 [==============================] - 20s 124ms/step\n"
     ]
    },
    {
     "data": {
      "text/plain": [
       "array([[3.4286678e-03, 7.6207953e-06, 1.0000000e+00],\n",
       "       [9.1990572e-01, 3.8714448e-01, 3.1758249e-03],\n",
       "       [7.1725452e-01, 2.1110058e-01, 9.1508961e-01],\n",
       "       ...,\n",
       "       [9.4901651e-01, 1.5622741e-01, 1.3804644e-02],\n",
       "       [9.9677771e-01, 6.4579248e-03, 2.3034066e-02],\n",
       "       [5.5772066e-04, 9.3599570e-01, 4.1590896e-01]], dtype=float32)"
      ]
     },
     "execution_count": 28,
     "metadata": {},
     "output_type": "execute_result"
    }
   ],
   "source": [
    "preds = model.predict(validation_generator, verbose=1)\n",
    "preds"
   ]
  },
  {
   "cell_type": "code",
   "execution_count": 29,
   "metadata": {},
   "outputs": [
    {
     "name": "stdout",
     "output_type": "stream",
     "text": [
      "[[0. 0. 1.]\n",
      " [1. 0. 0.]\n",
      " [1. 0. 1.]\n",
      " ...\n",
      " [1. 0. 0.]\n",
      " [1. 0. 0.]\n",
      " [0. 1. 0.]]\n"
     ]
    }
   ],
   "source": [
    "predictions = preds.copy()\n",
    "predictions[predictions <= 0.5] = 0\n",
    "predictions[predictions > 0.5] = 1\n",
    "\n",
    "print(predictions)"
   ]
  },
  {
   "cell_type": "code",
   "execution_count": null,
   "metadata": {},
   "outputs": [],
   "source": []
  }
 ],
 "metadata": {
  "kernelspec": {
   "display_name": "Python 3",
   "language": "python",
   "name": "python3"
  },
  "language_info": {
   "codemirror_mode": {
    "name": "ipython",
    "version": 3
   },
   "file_extension": ".py",
   "mimetype": "text/x-python",
   "name": "python",
   "nbconvert_exporter": "python",
   "pygments_lexer": "ipython3",
   "version": "3.8.5"
  }
 },
 "nbformat": 4,
 "nbformat_minor": 4
}
